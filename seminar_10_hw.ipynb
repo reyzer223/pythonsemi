{
  "nbformat": 4,
  "nbformat_minor": 0,
  "metadata": {
    "colab": {
      "provenance": [],
      "authorship_tag": "ABX9TyM5q3DgHPm/grgXjda3gZ4H",
      "include_colab_link": true
    },
    "kernelspec": {
      "name": "python3",
      "display_name": "Python 3"
    },
    "language_info": {
      "name": "python"
    }
  },
  "cells": [
    {
      "cell_type": "markdown",
      "metadata": {
        "id": "view-in-github",
        "colab_type": "text"
      },
      "source": [
        "<a href=\"https://colab.research.google.com/github/reyzer223/pythonsemi/blob/main/seminar_10_hw.ipynb\" target=\"_parent\"><img src=\"https://colab.research.google.com/assets/colab-badge.svg\" alt=\"Open In Colab\"/></a>"
      ]
    },
    {
      "cell_type": "markdown",
      "source": [
        "Задание 44 В ячейке ниже представлен код генерирующий DataFrame, которая состоит всего из 1 столбца. Ваша задача перевести его в one hot вид. Сможете ли вы это сделать без get_dummies?"
      ],
      "metadata": {
        "id": "-2IrskMsR8mk"
      }
    },
    {
      "cell_type": "code",
      "source": [
        "import pandas as pd"
      ],
      "metadata": {
        "id": "mNCl53x4R_Fd"
      },
      "execution_count": 1,
      "outputs": []
    },
    {
      "cell_type": "code",
      "source": [
        "import numpy as np"
      ],
      "metadata": {
        "id": "ddLEQOuVR_DB"
      },
      "execution_count": 2,
      "outputs": []
    },
    {
      "cell_type": "code",
      "source": [
        "import random"
      ],
      "metadata": {
        "id": "LECjEy3LR_Bt"
      },
      "execution_count": 3,
      "outputs": []
    },
    {
      "cell_type": "code",
      "source": [
        "lst = ['robot'] * 10"
      ],
      "metadata": {
        "id": "JsqhiKUjR-95"
      },
      "execution_count": 4,
      "outputs": []
    },
    {
      "cell_type": "code",
      "source": [
        "lst += ['human'] * 10"
      ],
      "metadata": {
        "id": "OB_uHal5R-2J"
      },
      "execution_count": 5,
      "outputs": []
    },
    {
      "cell_type": "code",
      "source": [
        "random.shuffle(lst)"
      ],
      "metadata": {
        "id": "ryZv0tisR-zj"
      },
      "execution_count": 6,
      "outputs": []
    },
    {
      "cell_type": "code",
      "source": [
        "data = pd.DataFrame({'whoAmI': lst})"
      ],
      "metadata": {
        "id": "jwzd4y_kR-xC"
      },
      "execution_count": 7,
      "outputs": []
    },
    {
      "cell_type": "code",
      "source": [
        "print(data)"
      ],
      "metadata": {
        "colab": {
          "base_uri": "https://localhost:8080/"
        },
        "id": "SYMCmKICR-ty",
        "outputId": "ef403fdd-ccda-4c10-fefb-2f5952ff2681"
      },
      "execution_count": 8,
      "outputs": [
        {
          "output_type": "stream",
          "name": "stdout",
          "text": [
            "   whoAmI\n",
            "0   robot\n",
            "1   human\n",
            "2   human\n",
            "3   human\n",
            "4   robot\n",
            "5   human\n",
            "6   robot\n",
            "7   robot\n",
            "8   robot\n",
            "9   robot\n",
            "10  human\n",
            "11  human\n",
            "12  robot\n",
            "13  robot\n",
            "14  human\n",
            "15  robot\n",
            "16  human\n",
            "17  robot\n",
            "18  human\n",
            "19  human\n"
          ]
        }
      ]
    },
    {
      "cell_type": "code",
      "source": [
        "data['tmp'] = 1"
      ],
      "metadata": {
        "id": "Ide9QzX0R-lC"
      },
      "execution_count": 9,
      "outputs": []
    },
    {
      "cell_type": "code",
      "source": [
        "data.set_index([data.index, 'whoAmI'], inplace=True)"
      ],
      "metadata": {
        "id": "xBaY8Ld3R-Rs"
      },
      "execution_count": 10,
      "outputs": []
    },
    {
      "cell_type": "code",
      "source": [
        "data = data.unstack(level=-1, fill_value = 0).astype(int)"
      ],
      "metadata": {
        "id": "FIf72MiRScAX"
      },
      "execution_count": 11,
      "outputs": []
    },
    {
      "cell_type": "code",
      "source": [
        "data.columns = data.columns.droplevel()"
      ],
      "metadata": {
        "id": "5q8xpoIaScSP"
      },
      "execution_count": 12,
      "outputs": []
    },
    {
      "cell_type": "code",
      "source": [
        "data.columns.name = None"
      ],
      "metadata": {
        "id": "3Hgok4_aScf9"
      },
      "execution_count": 13,
      "outputs": []
    },
    {
      "cell_type": "code",
      "source": [
        "print(data)"
      ],
      "metadata": {
        "colab": {
          "base_uri": "https://localhost:8080/"
        },
        "id": "RSkq7T48Sc-V",
        "outputId": "81a2784a-5960-4872-8155-6488ca84c71e"
      },
      "execution_count": 14,
      "outputs": [
        {
          "output_type": "stream",
          "name": "stdout",
          "text": [
            "    human  robot\n",
            "0       0      1\n",
            "1       1      0\n",
            "2       1      0\n",
            "3       1      0\n",
            "4       0      1\n",
            "5       1      0\n",
            "6       0      1\n",
            "7       0      1\n",
            "8       0      1\n",
            "9       0      1\n",
            "10      1      0\n",
            "11      1      0\n",
            "12      0      1\n",
            "13      0      1\n",
            "14      1      0\n",
            "15      0      1\n",
            "16      1      0\n",
            "17      0      1\n",
            "18      1      0\n",
            "19      1      0\n"
          ]
        }
      ]
    }
  ]
}